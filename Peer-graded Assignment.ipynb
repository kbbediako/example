{
    "cells": [
        {
            "cell_type": "markdown",
            "metadata": {
                "collapsed": true
            },
            "source": "# My Jupyter Notebook on IBM Watson Studio"
        },
        {
            "cell_type": "markdown",
            "metadata": {},
            "source": "**Kwabena Bediako Boateng**\nData Analyst"
        },
        {
            "cell_type": "markdown",
            "metadata": {},
            "source": "*I am interested in data science because I am a curious person with adequate quantitative background and can tell compelling stories with insights from data.*"
        },
        {
            "cell_type": "markdown",
            "metadata": {},
            "source": "### My code returns the sum of two vectors"
        },
        {
            "cell_type": "code",
            "execution_count": 7,
            "metadata": {},
            "outputs": [],
            "source": "import numpy as np"
        },
        {
            "cell_type": "code",
            "execution_count": 15,
            "metadata": {},
            "outputs": [
                {
                    "name": "stdout",
                    "output_type": "stream",
                    "text": "[6 6 6 6 6]\n"
                }
            ],
            "source": "x = np.array([1, 2, 3, 4, 5])\ny = np.array([5, 4, 3, 2, 1])\nz = x + y\nprint(z)"
        },
        {
            "cell_type": "markdown",
            "metadata": {},
            "source": "1. [Click here to access this Notebook on github](https://github.com)\n> I have shared this Notebook on github."
        }
    ],
    "metadata": {
        "kernelspec": {
            "display_name": "Python 3.6",
            "language": "python",
            "name": "python3"
        },
        "language_info": {
            "codemirror_mode": {
                "name": "ipython",
                "version": 3
            },
            "file_extension": ".py",
            "mimetype": "text/x-python",
            "name": "python",
            "nbconvert_exporter": "python",
            "pygments_lexer": "ipython3",
            "version": "3.6.9"
        }
    },
    "nbformat": 4,
    "nbformat_minor": 1
}